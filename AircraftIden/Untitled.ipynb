{
 "cells": [
  {
   "cell_type": "code",
   "execution_count": 10,
   "metadata": {},
   "outputs": [],
   "source": [
    "import sympy as sp\n",
    "from sympy import poly\n",
    "import numpy as np\n",
    "import math\n",
    "import matplotlib.pyplot as plt\n",
    "class TransferFunctionModel(object):\n",
    "    #TransferFunction Model, num and den is coefficent\n",
    "    def __init__(self,num,den,tau = 0):\n",
    "        self.num = num\n",
    "        self.den = den\n",
    "        self.tau = tau\n",
    "        pass\n",
    "    \n",
    "    def freqres(self, w, unwarp = False):\n",
    "        \n",
    "        b = self.num\n",
    "        a = self.den\n",
    "        tau = self.tau\n",
    "        s = 1j * w\n",
    "        h = np.polyval(b, s) * np.exp(-tau * s) / np.polyval(a, s)\n",
    "        print(np.absolute(h))\n",
    "        h = np.complex64(h)\n",
    "        amp = 20 * np.log10(np.absolute(h))\n",
    "        pha = None\n",
    "        if unwarp:\n",
    "            pha = np.unwrap(np.arctan2(h.imag, h.real)) * 180 / math.pi\n",
    "        else:\n",
    "            pha = np.arctan2(h.imag, h.real) * 180 / math.pi\n",
    "        return amp, pha\n",
    "    \n",
    "    \n",
    "    def plot(self, freq = None):\n",
    "        if freq is None:\n",
    "            freq = np.linspace(1.0,10,10)\n",
    "        print(freq)\n",
    "        amp,pha = self.freqres(freq,True)\n",
    "        plt.semilogx(freq,amp,label=\"Amp\")\n",
    "        plt.semilogx(freq,pha,label=\"Pha\")\n",
    "\n",
    "    \n",
    "\n",
    "class TransferFunctionParamModel(object):\n",
    "    #A TransferFunction with unknown parameters\n",
    "    \n",
    "    def __init__(self,num,den,tau = 0):\n",
    "        self.num = num\n",
    "        self.den = den\n",
    "        self.tau = tau\n",
    "        self.s = sp.symbols('s')\n",
    "    \n",
    "    def transfer_function_by_dict(self, sym_dict):\n",
    "        s = self.s\n",
    "        num_formula =  self.num.subs(sym_dict)\n",
    "        num = poly(num_formula,s).all_coeffs()\n",
    "\n",
    "        den_formula =  self.den.subs(sym_dict)\n",
    "        den = poly(den_formula,s).all_coeffs()\n",
    "        \n",
    "        return TransferFunctionModel(num,den,self.tau)\n",
    "    \n",
    "    def get_unknown_param_list(self):\n",
    "        syms = self.num.atoms(sp.Symbol) \n",
    "        syms.update(self.den.atoms(sp.Symbol))\n",
    "        syms.remove(self.s)\n",
    "        return syms"
   ]
  },
  {
   "cell_type": "code",
   "execution_count": 11,
   "metadata": {},
   "outputs": [
    {
     "name": "stdout",
     "output_type": "stream",
     "text": [
      "[ 1.  2.  3.  4.  5.  6.  7.  8.  9. 10.]\n",
      "[1.38675049056307 1.00000000000000 0.745355992499930 0.585205735980653\n",
      " 0.478913142610576 0.404226041727222 0.349215147884789 0.307147558416976\n",
      " 0.273998312175595 0.247234088217074]\n"
     ]
    },
    {
     "data": {
      "image/png": "[encoded data removed]",
      "text/plain": [
       "<matplotlib.figure.Figure at 0x1e2acc8b780>"
      ]
     },
     "metadata": {},
     "output_type": "display_data"
    }
   ],
   "source": [
    "s,a,b,c = sp.symbols('s a b c')\n",
    "num = c*s+0\n",
    "den = a*s**2 + b*s\n",
    "\n",
    "tfparam = TransferFunctionParamModel(num,den)\n",
    "\n",
    "tf = tfparam.transfer_function_by_dict({\n",
    "    a : 2,\n",
    "    b:  3,\n",
    "    c : 5\n",
    "})\n",
    "tf.__dict__\n",
    "tf.plot()"
   ]
  },
  {
   "cell_type": "code",
   "execution_count": 12,
   "metadata": {},
   "outputs": [
    {
     "data": {
      "text/plain": [
       "{a, b, c}"
      ]
     },
     "execution_count": 12,
     "metadata": {},
     "output_type": "execute_result"
    }
   ],
   "source": [
    "tfparam.get_unknown_param_list()"
   ]
  },
  {
   "cell_type": "code",
   "execution_count": null,
   "metadata": {},
   "outputs": [],
   "source": []
  }
 ],
 "metadata": {
  "kernelspec": {
   "display_name": "Python 3",
   "language": "python",
   "name": "python3"
  },
  "language_info": {
   "codemirror_mode": {
    "name": "ipython",
    "version": 3
   },
   "file_extension": ".py",
   "mimetype": "text/x-python",
   "name": "python",
   "nbconvert_exporter": "python",
   "pygments_lexer": "ipython3",
   "version": "3.6.4"
  }
 },
 "nbformat": 4,
 "nbformat_minor": 2
}
