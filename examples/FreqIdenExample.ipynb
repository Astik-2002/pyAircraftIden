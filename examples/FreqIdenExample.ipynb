{
 "cells": [
  {
   "cell_type": "code",
   "execution_count": 8,
   "metadata": {},
   "outputs": [],
   "source": [
    "import matplotlib.pyplot as plt\n",
    "import numpy as np\n",
    "import sys\n",
    "sys.path.insert(0, '../')\n",
    "from AircraftIden import FreqIdenSIMO, TransferFunctionFit"
   ]
  },
  {
   "cell_type": "code",
   "execution_count": null,
   "metadata": {},
   "outputs": [
    {
     "name": "stdout",
     "output_type": "stream",
     "text": [
      "Sample rate is 46.70436437941652\n",
      "Sample rate is 46.70436437941652\n",
      "Setting-up composite win, sample rate 46.70436437941652 from omg 0.5 to 50\n",
      "Composite using [5, 61, 117, 173, 229]\n",
      "Setting-up composite win, sample rate 46.70436437941652 from omg 0.5 to 50\n",
      "Composite using [5, 61, 117, 173, 229]\n",
      "Setting-up composite win, sample rate 46.70436437941652 from omg 0.5 to 50\n",
      "Composite using [5, 61, 117, 173, 229]\n"
     ]
    }
   ],
   "source": [
    "arr = np.load(\"../data/sweep_data_2017_11_16_11_47.npy\")\n",
    "time_seq_source = arr[:, 0] # Time series\n",
    "ele_seq_source = arr[:, 1] # elevator input\n",
    "q_seq_source = arr[:, 4] # angular velocity output\n",
    "vvi_seq_source = arr[:,6] # verticle velocity output\n",
    "theta_seq_source = arr[:,2] # pitch angle output\n",
    "airspeed_seq = arr[:, 3] # airspeed output\n",
    "simo_iden = FreqIdenSIMO(time_seq_source,0.5, 50, ele_seq_source, q_seq_source,theta_seq_source,airspeed_seq, win_num=None)"
   ]
  },
  {
   "cell_type": "code",
   "execution_count": null,
   "metadata": {},
   "outputs": [],
   "source": [
    "    plt.figure(\"airspeed num{}\".format(win_num))\n",
    "    simo_iden.plt_bode_plot(0)\n",
    "    plt.show()\n",
    "\n"
   ]
  }
 ],
 "metadata": {
  "kernelspec": {
   "display_name": "Python [default]",
   "language": "python",
   "name": "python3"
  },
  "language_info": {
   "codemirror_mode": {
    "name": "ipython",
    "version": 3
   },
   "file_extension": ".py",
   "mimetype": "text/x-python",
   "name": "python",
   "nbconvert_exporter": "python",
   "pygments_lexer": "ipython3",
   "version": "3.6.6"
  }
 },
 "nbformat": 4,
 "nbformat_minor": 2
}
