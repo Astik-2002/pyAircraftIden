{
 "cells": [
  {
   "cell_type": "code",
   "execution_count": 1,
   "metadata": {},
   "outputs": [
    {
     "ename": "ModuleNotFoundError",
     "evalue": "No module named 'pyulog'",
     "output_type": "error",
     "traceback": [
      "\u001b[1;31m---------------------------------------------------------------------------\u001b[0m",
      "\u001b[1;31mModuleNotFoundError\u001b[0m                       Traceback (most recent call last)",
      "\u001b[1;32m<ipython-input-1-6dd1c41e458a>\u001b[0m in \u001b[0;36m<module>\u001b[1;34m()\u001b[0m\n\u001b[0;32m      4\u001b[0m \u001b[1;32mimport\u001b[0m \u001b[0msys\u001b[0m\u001b[1;33m\u001b[0m\u001b[0m\n\u001b[0;32m      5\u001b[0m \u001b[0msys\u001b[0m\u001b[1;33m.\u001b[0m\u001b[0mpath\u001b[0m\u001b[1;33m.\u001b[0m\u001b[0minsert\u001b[0m\u001b[1;33m(\u001b[0m\u001b[1;36m0\u001b[0m\u001b[1;33m,\u001b[0m \u001b[1;34m'../'\u001b[0m\u001b[1;33m)\u001b[0m\u001b[1;33m\u001b[0m\u001b[0m\n\u001b[1;32m----> 6\u001b[1;33m \u001b[1;32mfrom\u001b[0m \u001b[0mAircraftIden\u001b[0m\u001b[1;33m.\u001b[0m\u001b[0mdata_case\u001b[0m\u001b[1;33m.\u001b[0m\u001b[0mGeneralAircraftCase\u001b[0m \u001b[1;32mimport\u001b[0m \u001b[0mGeneralAircraftCase\u001b[0m\u001b[1;33m,\u001b[0m \u001b[0mPX4AircraftCase\u001b[0m\u001b[1;33m\u001b[0m\u001b[0m\n\u001b[0m\u001b[0;32m      7\u001b[0m \u001b[1;32mfrom\u001b[0m \u001b[0mAircraftIden\u001b[0m \u001b[1;32mimport\u001b[0m \u001b[0mFreqIdenSIMO\u001b[0m\u001b[1;33m,\u001b[0m \u001b[0mTransferFunctionFit\u001b[0m\u001b[1;33m\u001b[0m\u001b[0m\n\u001b[0;32m      8\u001b[0m \u001b[1;32mimport\u001b[0m \u001b[0mnumpy\u001b[0m \u001b[1;32mas\u001b[0m \u001b[0mnp\u001b[0m\u001b[1;33m\u001b[0m\u001b[0m\n",
      "\u001b[1;32m~\\Dropbox\\FlightDevelop\\pyAircraftIden\\AircraftIden\\data_case\\GeneralAircraftCase.py\u001b[0m in \u001b[0;36m<module>\u001b[1;34m()\u001b[0m\n\u001b[0;32m      1\u001b[0m \u001b[1;32mimport\u001b[0m \u001b[0mnumpy\u001b[0m \u001b[1;32mas\u001b[0m \u001b[0mnp\u001b[0m\u001b[1;33m\u001b[0m\u001b[0m\n\u001b[1;32m----> 2\u001b[1;33m \u001b[1;32mfrom\u001b[0m \u001b[0mpyulog\u001b[0m\u001b[1;33m.\u001b[0m\u001b[0mcore\u001b[0m \u001b[1;32mimport\u001b[0m \u001b[0mULog\u001b[0m\u001b[1;33m\u001b[0m\u001b[0m\n\u001b[0m\u001b[0;32m      3\u001b[0m \u001b[1;32mimport\u001b[0m \u001b[0mmatplotlib\u001b[0m\u001b[1;33m.\u001b[0m\u001b[0mpyplot\u001b[0m \u001b[1;32mas\u001b[0m \u001b[0mplt\u001b[0m\u001b[1;33m\u001b[0m\u001b[0m\n\u001b[0;32m      4\u001b[0m \u001b[1;32mfrom\u001b[0m \u001b[0mscipy\u001b[0m\u001b[1;33m.\u001b[0m\u001b[0minterpolate\u001b[0m \u001b[1;32mimport\u001b[0m \u001b[0minterp1d\u001b[0m\u001b[1;33m\u001b[0m\u001b[0m\n\u001b[0;32m      5\u001b[0m \u001b[1;32mfrom\u001b[0m \u001b[0mAircraftIden\u001b[0m\u001b[1;33m.\u001b[0m\u001b[0mFreqIden\u001b[0m \u001b[1;32mimport\u001b[0m \u001b[0mremove_seq_average_and_drift\u001b[0m\u001b[1;33m\u001b[0m\u001b[0m\n",
      "\u001b[1;31mModuleNotFoundError\u001b[0m: No module named 'pyulog'"
     ]
    }
   ],
   "source": [
    "#coding=utf-8 \n",
    "%matplotlib ipympl\n",
    "\n",
    "import sys\n",
    "sys.path.insert(0, '../')\n",
    "from AircraftIden.data_case.GeneralAircraftCase import GeneralAircraftCase, PX4AircraftCase\n",
    "from AircraftIden import FreqIdenSIMO, TransferFunctionFit\n",
    "import numpy as np\n",
    "import matplotlib.pyplot as plt\n",
    "import math\n",
    "\n",
    "plt.rc('figure', figsize=(20.0, 10.0))\n",
    "\n",
    "def show_logs(px4_case: PX4AircraftCase):\n",
    "    print(\"LOW\")\n",
    "    needed_data = ['ele', 'q', 'thr', 'body_vx', \"iden_start_time\"]\n",
    "    t_arr, data_list = px4_case.get_data_time_range_list(needed_data)\n",
    "    print(t_arr)\n",
    "    data_list[-1] = data_list[-1]/10\n",
    "    plt.figure(\"Ele\")\n",
    "    plt.grid(which='both')\n",
    "    plt.plot(t_arr, data_list[0], 'r.', label='ele')\n",
    "\n",
    "    plt.figure(\"sourcedata\")\n",
    "    # print(t_arr)\n",
    "    # print(data_list)\n",
    "    for i in range(needed_data.__len__()):\n",
    "        plt.plot(t_arr, data_list[i], label=needed_data[i])\n",
    "    plt.legend()\n",
    "    plt.show()\n",
    "\n",
    "\n",
    "def split_logs(px4_case:PX4AircraftCase):\n",
    "    needed_data = [\"iden_start_time\"]\n",
    "    print(\"Will start split data with\", needed_data)\n",
    "    t_arr, data_list = px4_case.get_data_time_range_list(needed_data)\n",
    "    iden_start_time = data_list[-1]\n",
    "    data_splited = []\n",
    "    is_in_a_test = False\n",
    "    for i in range(1, t_arr.__len__()-1):\n",
    "        if (iden_start_time[i] > iden_start_time[i+1] or (len(data_splited) > 0 and t_arr[i] - data_splited[-1][\"start\"] > 20)) \\\n",
    "                and is_in_a_test:\n",
    "            data_splited[-1][\"end\"] = t_arr[i]\n",
    "#             print(\"Data split {}th, {:5.2f}:{:5.2f}  len {:5.2f}\".format(\n",
    "#                 data_splited.__len__(), data_splited[-1][\"start\"], data_splited[-1][\"end\"],\n",
    "#                 data_splited[-1][\"end\"] - data_splited[-1][\"start\"]\n",
    "#             ))\n",
    "            is_in_a_test = False\n",
    "\n",
    "        # if (0 <= iden_start_time[i] < iden_start_time[i-1] and iden_start_time[i] < iden_start_time[i+1]):\n",
    "        if (iden_start_time[i-1] <=0 and 0 < iden_start_time[i]):\n",
    "            # Is a start\n",
    "            is_in_a_test = True\n",
    "            data_splited.append({\"start\": t_arr[i]})\n",
    "\n",
    "    return data_splited\n",
    "\n",
    "\n",
    "def join_data(data_splited, status):\n",
    "    joined_data_status = {}\n",
    "    assert data_splited.__len__() == status.__len__(), \"Status Length must equal to data_split but {} {}\".format(\n",
    "        data_splited.__len__(), status.__len__())\n",
    "\n",
    "    for i in range(data_splited.__len__()):\n",
    "        status_test = status[i]\n",
    "        if status_test == \"-\" or status_test == \"wrong\":\n",
    "            continue\n",
    "        if status_test in joined_data_status:\n",
    "            #Join data\n",
    "            joined_data_status[status_test].append((data_splited[i][\"start\"],data_splited[i][\"end\"]))\n",
    "        else:\n",
    "            joined_data_status[status_test] = [(data_splited[i][\"start\"], data_splited[i][\"end\"])]\n",
    "    return joined_data_status\n",
    "\n",
    "def split_and_join_data(px4_case:PX4AircraftCase,status):\n",
    "    sp = split_logs(px4_case)\n",
    "    return join_data(sp,status)\n",
    "\n",
    "\n",
    "def plot_status_data(test_case, joined_data_status,needed_data):\n",
    "    for key in joined_data_status:\n",
    "        plt.figure(\"Data case: {}\".format(key))\n",
    "        total_time, t_data, datas = test_case.get_concat_data(joined_data_status[key], needed_data)\n",
    "        for i in range(1, needed_data.__len__()):\n",
    "            plt.plot(t_data, datas[needed_data[i]], label=needed_data[i])\n",
    "            pass\n",
    "        plt.legend()\n",
    "        plt.grid(which='both')\n",
    "    plt.show()\n",
    "\n",
    "def process_status_data(test_case, joined_data_status,omg_min,omg_max,win_num=None):\n",
    "    needed_data = ['ele', 'q', 'thr', \"body_vx\", \"body_vz\",\"ax\",\"az\"]\n",
    "    res = {}\n",
    "    for key in joined_data_status:\n",
    "        total_time, t_data, datas = test_case.get_concat_data(joined_data_status[key], needed_data)\n",
    "        iden = FreqIdenSIMO(t_data, omg_min, omg_max, datas['ele'], datas['q'], datas[\"body_vx\"], datas[\"body_vz\"],datas[\"ax\"],datas[\"az\"],\n",
    "                             uniform_input=True, win_num=None)#,assit_input=datas[\"thr\"])\n",
    "        res[key] = iden\n",
    "    return res\n",
    "\n",
    "\n",
    "def plot_idens_for_status(idens):\n",
    "    for key in idens:\n",
    "        iden = idens[key]\n",
    "        plt.figure(\"ele_q\")\n",
    "        iden.plt_bode_plot(0, label=key)\n",
    "        plt.figure(\"ele_body_vx\")\n",
    "        iden.plt_bode_plot(1, label=key)\n",
    "        plt.figure(\"ele_body_vz\")\n",
    "        iden.plt_bode_plot(2, label=key)\n",
    "        plt.figure(\"ele_body_ax\")\n",
    "        iden.plt_bode_plot(3, label=key)\n",
    "        plt.figure(\"ele_body_az\")\n",
    "        iden.plt_bode_plot(4, label=key)\n",
    "    plt.show()"
   ]
  },
  {
   "cell_type": "code",
   "execution_count": null,
   "metadata": {},
   "outputs": [],
   "source": [
    "fpath = \"/Users/xuhao/Dropbox/FLYLOG/foam-tail-sitter/cruising/log_34_2018-4-10-16-16-04.ulg\"\n",
    "status = [\n",
    "        \"5m/s\", \"5m/s\", \"5m/s\", \"5m/s\", \"5m/s\", \"5m/s\", \"5m/s\", \"5m/s\",\n",
    "        \"8m/s\", \"8m/s\", \"8m/s\", \"8m/s\", \"8m/s\", \"8m/s\",\"8m/s\", \"8m/s\",\n",
    "        \"10m/s\", \"10m/s\", \"10m/s\", \"10m/s\", \"10m/s\", \"10m/s\",\"10m/s\", \"10m/s\",\n",
    "]\n",
    "#process_file(fpath,status)\n",
    "px4_case = PX4AircraftCase(fpath)\n",
    "show_logs(px4_case)\n",
    "\n",
    "status_low = [\n",
    "        \"1m/s\", \"1m/s\", \"1m/s\", \"1m/s\", \"1m/s\", \"1m/s\", \"1m/s\", \"1m/s\",\n",
    "        \"3m/s\", \"3m/s\", \"3m/s\", \"3m/s\", \"3m/s\", \"3m/s\",\"3m/s\", \"3m/s\",\n",
    "        \"-\", \"-\", \"-\",\n",
    "]\n",
    "\n",
    "fpath_low = \"/Users/xuhao/Dropbox/FLYLOG/foam-tail-sitter/cruising/log_32_2018-4-10-15-53-08.ulg\"\n",
    "px4_case_low = PX4AircraftCase(fpath_low)\n",
    "show_logs(px4_case_low)\n"
   ]
  },
  {
   "cell_type": "code",
   "execution_count": null,
   "metadata": {},
   "outputs": [],
   "source": [
    "plt.rc('figure', figsize=(10.0, 5.0))\n",
    "data_splited = split_logs(px4_case)\n",
    "data_splited = join_data(data_splited, status)\n",
    "data_splited_low = split_and_join_data(px4_case_low, status_low)\n",
    "needed_data = ['ele', 'q', 'thr', \"body_vx\", \"body_vz\",\"ax\",\"az\"]\n",
    "plot_status_data(px4_case, data_splited,needed_data)\n",
    "plot_status_data(px4_case, data_splited_low,needed_data)"
   ]
  },
  {
   "cell_type": "code",
   "execution_count": 2,
   "metadata": {},
   "outputs": [
    {
     "ename": "NameError",
     "evalue": "name 'process_status_data' is not defined",
     "output_type": "error",
     "traceback": [
      "\u001b[1;31m---------------------------------------------------------------------------\u001b[0m",
      "\u001b[1;31mNameError\u001b[0m                                 Traceback (most recent call last)",
      "\u001b[1;32m<ipython-input-2-5b388d7f4da4>\u001b[0m in \u001b[0;36m<module>\u001b[1;34m()\u001b[0m\n\u001b[1;32m----> 1\u001b[1;33m \u001b[0midens\u001b[0m \u001b[1;33m=\u001b[0m \u001b[0mprocess_status_data\u001b[0m\u001b[1;33m(\u001b[0m\u001b[0mpx4_case\u001b[0m\u001b[1;33m,\u001b[0m \u001b[0mdata_splited\u001b[0m\u001b[1;33m,\u001b[0m \u001b[1;36m5\u001b[0m\u001b[1;33m,\u001b[0m \u001b[1;36m50\u001b[0m\u001b[1;33m)\u001b[0m\u001b[1;33m\u001b[0m\u001b[0m\n\u001b[0m\u001b[0;32m      2\u001b[0m \u001b[0midens_low\u001b[0m \u001b[1;33m=\u001b[0m \u001b[0mprocess_status_data\u001b[0m\u001b[1;33m(\u001b[0m\u001b[0mpx4_case_low\u001b[0m\u001b[1;33m,\u001b[0m \u001b[0mdata_splited_low\u001b[0m\u001b[1;33m,\u001b[0m \u001b[1;36m5\u001b[0m\u001b[1;33m,\u001b[0m \u001b[1;36m50\u001b[0m\u001b[1;33m)\u001b[0m\u001b[1;33m\u001b[0m\u001b[0m\n\u001b[0;32m      3\u001b[0m \u001b[0midens\u001b[0m\u001b[1;33m.\u001b[0m\u001b[0mupdate\u001b[0m\u001b[1;33m(\u001b[0m\u001b[0midens_low\u001b[0m\u001b[1;33m)\u001b[0m\u001b[1;33m\u001b[0m\u001b[0m\n",
      "\u001b[1;31mNameError\u001b[0m: name 'process_status_data' is not defined"
     ]
    }
   ],
   "source": [
    "idens = process_status_data(px4_case, data_splited, 5, 50)\n",
    "idens_low = process_status_data(px4_case_low, data_splited_low, 5, 50)\n",
    "idens.update(idens_low)"
   ]
  },
  {
   "cell_type": "code",
   "execution_count": 17,
   "metadata": {},
   "outputs": [
    {
     "data": {
      "application/vnd.jupyter.widget-view+json": {
       "model_id": "87ace98e25fe4987a54e4f308dcb30ec",
       "version_major": 2,
       "version_minor": 0
      },
      "text/html": [
       "<p>Failed to display Jupyter Widget of type <code>FigureCanvasNbAgg</code>.</p>\n",
       "<p>\n",
       "  If you're reading this message in the Jupyter Notebook or JupyterLab Notebook, it may mean\n",
       "  that the widgets JavaScript is still loading. If this message persists, it\n",
       "  likely means that the widgets JavaScript library is either not installed or\n",
       "  not enabled. See the <a href=\"https://ipywidgets.readthedocs.io/en/stable/user_install.html\">Jupyter\n",
       "  Widgets Documentation</a> for setup instructions.\n",
       "</p>\n",
       "<p>\n",
       "  If you're reading this message in another frontend (for example, a static\n",
       "  rendering on GitHub or <a href=\"https://nbviewer.jupyter.org/\">NBViewer</a>),\n",
       "  it may mean that your frontend doesn't currently support widgets.\n",
       "</p>\n"
      ],
      "text/plain": [
       "FigureCanvasNbAgg()"
      ]
     },
     "metadata": {},
     "output_type": "display_data"
    },
    {
     "data": {
      "application/vnd.jupyter.widget-view+json": {
       "model_id": "a3e3d833334c4aecaac576e3d832871c",
       "version_major": 2,
       "version_minor": 0
      },
      "text/html": [
       "<p>Failed to display Jupyter Widget of type <code>FigureCanvasNbAgg</code>.</p>\n",
       "<p>\n",
       "  If you're reading this message in the Jupyter Notebook or JupyterLab Notebook, it may mean\n",
       "  that the widgets JavaScript is still loading. If this message persists, it\n",
       "  likely means that the widgets JavaScript library is either not installed or\n",
       "  not enabled. See the <a href=\"https://ipywidgets.readthedocs.io/en/stable/user_install.html\">Jupyter\n",
       "  Widgets Documentation</a> for setup instructions.\n",
       "</p>\n",
       "<p>\n",
       "  If you're reading this message in another frontend (for example, a static\n",
       "  rendering on GitHub or <a href=\"https://nbviewer.jupyter.org/\">NBViewer</a>),\n",
       "  it may mean that your frontend doesn't currently support widgets.\n",
       "</p>\n"
      ],
      "text/plain": [
       "FigureCanvasNbAgg()"
      ]
     },
     "metadata": {},
     "output_type": "display_data"
    },
    {
     "data": {
      "application/vnd.jupyter.widget-view+json": {
       "model_id": "de1251aeb97148ac88df04f7cffe9567",
       "version_major": 2,
       "version_minor": 0
      },
      "text/html": [
       "<p>Failed to display Jupyter Widget of type <code>FigureCanvasNbAgg</code>.</p>\n",
       "<p>\n",
       "  If you're reading this message in the Jupyter Notebook or JupyterLab Notebook, it may mean\n",
       "  that the widgets JavaScript is still loading. If this message persists, it\n",
       "  likely means that the widgets JavaScript library is either not installed or\n",
       "  not enabled. See the <a href=\"https://ipywidgets.readthedocs.io/en/stable/user_install.html\">Jupyter\n",
       "  Widgets Documentation</a> for setup instructions.\n",
       "</p>\n",
       "<p>\n",
       "  If you're reading this message in another frontend (for example, a static\n",
       "  rendering on GitHub or <a href=\"https://nbviewer.jupyter.org/\">NBViewer</a>),\n",
       "  it may mean that your frontend doesn't currently support widgets.\n",
       "</p>\n"
      ],
      "text/plain": [
       "FigureCanvasNbAgg()"
      ]
     },
     "metadata": {},
     "output_type": "display_data"
    },
    {
     "data": {
      "application/vnd.jupyter.widget-view+json": {
       "model_id": "26d3d553fe6a4d1e913bd5d97d1593c2",
       "version_major": 2,
       "version_minor": 0
      },
      "text/html": [
       "<p>Failed to display Jupyter Widget of type <code>FigureCanvasNbAgg</code>.</p>\n",
       "<p>\n",
       "  If you're reading this message in the Jupyter Notebook or JupyterLab Notebook, it may mean\n",
       "  that the widgets JavaScript is still loading. If this message persists, it\n",
       "  likely means that the widgets JavaScript library is either not installed or\n",
       "  not enabled. See the <a href=\"https://ipywidgets.readthedocs.io/en/stable/user_install.html\">Jupyter\n",
       "  Widgets Documentation</a> for setup instructions.\n",
       "</p>\n",
       "<p>\n",
       "  If you're reading this message in another frontend (for example, a static\n",
       "  rendering on GitHub or <a href=\"https://nbviewer.jupyter.org/\">NBViewer</a>),\n",
       "  it may mean that your frontend doesn't currently support widgets.\n",
       "</p>\n"
      ],
      "text/plain": [
       "FigureCanvasNbAgg()"
      ]
     },
     "metadata": {},
     "output_type": "display_data"
    },
    {
     "data": {
      "application/vnd.jupyter.widget-view+json": {
       "model_id": "e159a51bed7b49af880c2a22ea6360ae",
       "version_major": 2,
       "version_minor": 0
      },
      "text/html": [
       "<p>Failed to display Jupyter Widget of type <code>FigureCanvasNbAgg</code>.</p>\n",
       "<p>\n",
       "  If you're reading this message in the Jupyter Notebook or JupyterLab Notebook, it may mean\n",
       "  that the widgets JavaScript is still loading. If this message persists, it\n",
       "  likely means that the widgets JavaScript library is either not installed or\n",
       "  not enabled. See the <a href=\"https://ipywidgets.readthedocs.io/en/stable/user_install.html\">Jupyter\n",
       "  Widgets Documentation</a> for setup instructions.\n",
       "</p>\n",
       "<p>\n",
       "  If you're reading this message in another frontend (for example, a static\n",
       "  rendering on GitHub or <a href=\"https://nbviewer.jupyter.org/\">NBViewer</a>),\n",
       "  it may mean that your frontend doesn't currently support widgets.\n",
       "</p>\n"
      ],
      "text/plain": [
       "FigureCanvasNbAgg()"
      ]
     },
     "metadata": {},
     "output_type": "display_data"
    },
    {
     "name": "stderr",
     "output_type": "stream",
     "text": [
      "C:\\Users\\xuhao\\Anaconda3\\lib\\site-packages\\matplotlib\\cbook\\deprecation.py:106: MatplotlibDeprecationWarning: Adding an axes using the same arguments as a previous axes currently reuses the earlier instance.  In a future version, a new instance will always be created and returned.  Meanwhile, this warning can be suppressed, and the future behavior ensured, by passing a unique label to each axes instance.\n",
      "  warnings.warn(message, mplDeprecation, stacklevel=1)\n",
      "..\\AircraftIden\\FreqIden.py:157: RuntimeWarning: invalid value encountered in log10\n",
      "  plt.semilogx(freq, 20 * np.log10(gxx), label=label+'gxx')\n"
     ]
    }
   ],
   "source": [
    "plt.rc('figure', figsize=(20.0, 10.0))\n",
    "plot_idens_for_status(idens)"
   ]
  },
  {
   "cell_type": "code",
   "execution_count": 18,
   "metadata": {},
   "outputs": [],
   "source": [
    "import pickle\n",
    "pkl_name = \"/Users/xuhao/Dropbox/FLYLOG/foam-tail-sitter/cruising/log_34_2018-4-10-freq-res.pkl\"\n",
    "f = open(\"/Users/xuhao/Dropbox/FLYLOG/foam-tail-sitter/cruising/log_34_2018-4-10-freq-res.pkl\",\"wb\")\n",
    "pickle.dump(idens, f, pickle.HIGHEST_PROTOCOL)"
   ]
  },
  {
   "cell_type": "code",
   "execution_count": 9,
   "metadata": {},
   "outputs": [
    {
     "data": {
      "text/plain": [
       "{'10m/s': <AircraftIden.FreqIden.FreqIdenSIMO at 0x2020a4e4940>,\n",
       " '1m/s': <AircraftIden.FreqIden.FreqIdenSIMO at 0x20278a5c278>,\n",
       " '3m/s': <AircraftIden.FreqIden.FreqIdenSIMO at 0x2020a4e4f28>,\n",
       " '5m/s': <AircraftIden.FreqIden.FreqIdenSIMO at 0x20278a5cd68>,\n",
       " '8m/s': <AircraftIden.FreqIden.FreqIdenSIMO at 0x20278a5c2e8>}"
      ]
     },
     "execution_count": 9,
     "metadata": {},
     "output_type": "execute_result"
    }
   ],
   "source": [
    "idens"
   ]
  },
  {
   "cell_type": "code",
   "execution_count": 24,
   "metadata": {},
   "outputs": [
    {
     "name": "stderr",
     "output_type": "stream",
     "text": [
      "C:\\Users\\xuhao\\Anaconda3\\lib\\site-packages\\matplotlib\\cbook\\deprecation.py:106: MatplotlibDeprecationWarning: Adding an axes using the same arguments as a previous axes currently reuses the earlier instance.  In a future version, a new instance will always be created and returned.  Meanwhile, this warning can be suppressed, and the future behavior ensured, by passing a unique label to each axes instance.\n",
      "  warnings.warn(message, mplDeprecation, stacklevel=1)\n",
      "..\\AircraftIden\\FreqIden.py:157: RuntimeWarning: invalid value encountered in log10\n",
      "  plt.semilogx(freq, 20 * np.log10(gxx), label=label+'gxx')\n"
     ]
    }
   ],
   "source": [
    "pkl_name = \"/Users/xuhao/Dropbox/FLYLOG/foam-tail-sitter/cruising/log_34_2018-4-10-freq-res.pkl\"\n",
    "finput = open(pkl_name, 'rb')\n",
    "idens = pickle.load(finput)\n",
    "plt.rc('figure', figsize=(20.0, 10.0))\n",
    "plot_idens_for_status(idens)"
   ]
  },
  {
   "cell_type": "code",
   "execution_count": null,
   "metadata": {},
   "outputs": [],
   "source": []
  }
 ],
 "metadata": {
  "kernelspec": {
   "display_name": "Python 3",
   "language": "python",
   "name": "python3"
  },
  "language_info": {
   "codemirror_mode": {
    "name": "ipython",
    "version": 3
   },
   "file_extension": ".py",
   "mimetype": "text/x-python",
   "name": "python",
   "nbconvert_exporter": "python",
   "pygments_lexer": "ipython3",
   "version": "3.6.3"
  }
 },
 "nbformat": 4,
 "nbformat_minor": 2
}
