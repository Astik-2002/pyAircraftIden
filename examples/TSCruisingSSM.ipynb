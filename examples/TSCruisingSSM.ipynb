{
 "cells": [
  {
   "cell_type": "code",
   "execution_count": 4,
   "metadata": {},
   "outputs": [],
   "source": [
    "#coding=utf-8\n",
    "%matplotlib ipympl\n",
    "import sys\n",
    "sys.path.insert(0, '../')\n",
    "\n",
    "from AircraftIden.StateSpaceIden import StateSpaceIdenSIMO, StateSpaceParamModel\n",
    "\n",
    "from AircraftIden import FreqIdenSIMO, TransferFunctionFit\n",
    "import numpy as np\n",
    "import matplotlib.pyplot as plt\n",
    "import math\n",
    "import pickle\n",
    "import sympy as sp\n",
    "pkl_name = \"../../../FLYLOG/foam-tail-sitter/cruising/log_34_2018-4-10-freq-res.pkl\"\n",
    "finput = open(pkl_name, 'rb')\n",
    "freq_responses = pickle.load(finput)\n",
    "def plot_freqres_for_status(freqres , key = \"-\"):\n",
    "    \n",
    "    plt.figure(\"ele_q\")\n",
    "    freqres.plt_bode_plot(0, label=key)\n",
    "    plt.figure(\"ele_body_vx\")\n",
    "    freqres.plt_bode_plot(1, label=key)\n",
    "    plt.figure(\"ele_body_vz\")\n",
    "    freqres.plt_bode_plot(2, label=key)\n",
    "    plt.figure(\"ele_body_ax\")\n",
    "    freqres.plt_bode_plot(3, label=key)\n",
    "    plt.figure(\"ele_body_az\")\n",
    "    freqres.plt_bode_plot(4, label=key)\n",
    "    plt.show()"
   ]
  },
  {
   "cell_type": "code",
   "execution_count": 5,
   "metadata": {},
   "outputs": [
    {
     "data": {
      "application/vnd.jupyter.widget-view+json": {
       "model_id": "7ad10159b3e94478bbbe3696e00cfc7a",
       "version_major": 2,
       "version_minor": 0
      },
      "text/html": [
       "<p>Failed to display Jupyter Widget of type <code>FigureCanvasNbAgg</code>.</p>\n",
       "<p>\n",
       "  If you're reading this message in the Jupyter Notebook or JupyterLab Notebook, it may mean\n",
       "  that the widgets JavaScript is still loading. If this message persists, it\n",
       "  likely means that the widgets JavaScript library is either not installed or\n",
       "  not enabled. See the <a href=\"https://ipywidgets.readthedocs.io/en/stable/user_install.html\">Jupyter\n",
       "  Widgets Documentation</a> for setup instructions.\n",
       "</p>\n",
       "<p>\n",
       "  If you're reading this message in another frontend (for example, a static\n",
       "  rendering on GitHub or <a href=\"https://nbviewer.jupyter.org/\">NBViewer</a>),\n",
       "  it may mean that your frontend doesn't currently support widgets.\n",
       "</p>\n"
      ],
      "text/plain": [
       "FigureCanvasNbAgg()"
      ]
     },
     "metadata": {},
     "output_type": "display_data"
    },
    {
     "data": {
      "application/vnd.jupyter.widget-view+json": {
       "model_id": "55bb5521d8a6407086e7a25efe16f73f",
       "version_major": 2,
       "version_minor": 0
      },
      "text/html": [
       "<p>Failed to display Jupyter Widget of type <code>FigureCanvasNbAgg</code>.</p>\n",
       "<p>\n",
       "  If you're reading this message in the Jupyter Notebook or JupyterLab Notebook, it may mean\n",
       "  that the widgets JavaScript is still loading. If this message persists, it\n",
       "  likely means that the widgets JavaScript library is either not installed or\n",
       "  not enabled. See the <a href=\"https://ipywidgets.readthedocs.io/en/stable/user_install.html\">Jupyter\n",
       "  Widgets Documentation</a> for setup instructions.\n",
       "</p>\n",
       "<p>\n",
       "  If you're reading this message in another frontend (for example, a static\n",
       "  rendering on GitHub or <a href=\"https://nbviewer.jupyter.org/\">NBViewer</a>),\n",
       "  it may mean that your frontend doesn't currently support widgets.\n",
       "</p>\n"
      ],
      "text/plain": [
       "FigureCanvasNbAgg()"
      ]
     },
     "metadata": {},
     "output_type": "display_data"
    },
    {
     "data": {
      "application/vnd.jupyter.widget-view+json": {
       "model_id": "c91bfa0aa51a45948d36003b21cd4606",
       "version_major": 2,
       "version_minor": 0
      },
      "text/html": [
       "<p>Failed to display Jupyter Widget of type <code>FigureCanvasNbAgg</code>.</p>\n",
       "<p>\n",
       "  If you're reading this message in the Jupyter Notebook or JupyterLab Notebook, it may mean\n",
       "  that the widgets JavaScript is still loading. If this message persists, it\n",
       "  likely means that the widgets JavaScript library is either not installed or\n",
       "  not enabled. See the <a href=\"https://ipywidgets.readthedocs.io/en/stable/user_install.html\">Jupyter\n",
       "  Widgets Documentation</a> for setup instructions.\n",
       "</p>\n",
       "<p>\n",
       "  If you're reading this message in another frontend (for example, a static\n",
       "  rendering on GitHub or <a href=\"https://nbviewer.jupyter.org/\">NBViewer</a>),\n",
       "  it may mean that your frontend doesn't currently support widgets.\n",
       "</p>\n"
      ],
      "text/plain": [
       "FigureCanvasNbAgg()"
      ]
     },
     "metadata": {},
     "output_type": "display_data"
    },
    {
     "data": {
      "application/vnd.jupyter.widget-view+json": {
       "model_id": "d0c0c2c1d6bd4a1283a1d4704000dee3",
       "version_major": 2,
       "version_minor": 0
      },
      "text/html": [
       "<p>Failed to display Jupyter Widget of type <code>FigureCanvasNbAgg</code>.</p>\n",
       "<p>\n",
       "  If you're reading this message in the Jupyter Notebook or JupyterLab Notebook, it may mean\n",
       "  that the widgets JavaScript is still loading. If this message persists, it\n",
       "  likely means that the widgets JavaScript library is either not installed or\n",
       "  not enabled. See the <a href=\"https://ipywidgets.readthedocs.io/en/stable/user_install.html\">Jupyter\n",
       "  Widgets Documentation</a> for setup instructions.\n",
       "</p>\n",
       "<p>\n",
       "  If you're reading this message in another frontend (for example, a static\n",
       "  rendering on GitHub or <a href=\"https://nbviewer.jupyter.org/\">NBViewer</a>),\n",
       "  it may mean that your frontend doesn't currently support widgets.\n",
       "</p>\n"
      ],
      "text/plain": [
       "FigureCanvasNbAgg()"
      ]
     },
     "metadata": {},
     "output_type": "display_data"
    },
    {
     "name": "stderr",
     "output_type": "stream",
     "text": [
      "..\\AircraftIden\\FreqIden.py:158: RuntimeWarning: invalid value encountered in log10\n",
      "  plt.semilogx(freq, 20 * np.log10(gxx), label=label+'gxx')\n"
     ]
    },
    {
     "data": {
      "application/vnd.jupyter.widget-view+json": {
       "model_id": "1bf83dde1b2c4bf3ab627a2685266947",
       "version_major": 2,
       "version_minor": 0
      },
      "text/html": [
       "<p>Failed to display Jupyter Widget of type <code>FigureCanvasNbAgg</code>.</p>\n",
       "<p>\n",
       "  If you're reading this message in the Jupyter Notebook or JupyterLab Notebook, it may mean\n",
       "  that the widgets JavaScript is still loading. If this message persists, it\n",
       "  likely means that the widgets JavaScript library is either not installed or\n",
       "  not enabled. See the <a href=\"https://ipywidgets.readthedocs.io/en/stable/user_install.html\">Jupyter\n",
       "  Widgets Documentation</a> for setup instructions.\n",
       "</p>\n",
       "<p>\n",
       "  If you're reading this message in another frontend (for example, a static\n",
       "  rendering on GitHub or <a href=\"https://nbviewer.jupyter.org/\">NBViewer</a>),\n",
       "  it may mean that your frontend doesn't currently support widgets.\n",
       "</p>\n"
      ],
      "text/plain": [
       "FigureCanvasNbAgg()"
      ]
     },
     "metadata": {},
     "output_type": "display_data"
    }
   ],
   "source": [
    "plt.rc('figure', figsize=(10.0, 5.0))\n",
    "plt.close('all')\n",
    "freqres_10ms = freq_responses[\"10m/s\"]\n",
    "plot_freqres_for_status(freqres_10ms)"
   ]
  },
  {
   "cell_type": "code",
   "execution_count": 6,
   "metadata": {},
   "outputs": [
    {
     "name": "stdout",
     "output_type": "stream",
     "text": [
      "Trim theta 0.5235987755982988 U0 9.0 W0 0\n"
     ]
    }
   ],
   "source": [
    "# X = [u,w,q,th]\n",
    "# Y = [u,w,q]\n",
    "\n",
    "M = sp.Matrix([[1, 0, 0, 0],\n",
    "               [0, 1 , 0, 0],\n",
    "               [0, 0, 1, 0],\n",
    "               [0, 0, 0, 1]])\n",
    "\n",
    "g = 9.78\n",
    "U0 = 9.0\n",
    "W0 = 0\n",
    "th0 = 30 / 180 * math.pi\n",
    "\n",
    "print(\"Trim theta {} U0 {} W0 {}\".format(th0, U0, W0))\n",
    "Xu, Xw, Xq = sp.symbols('Xu Xw Xq')\n",
    "Zu, Zw, Zq = sp.symbols('Zu Zw Zq')\n",
    "Mu, Mw, Mq = sp.symbols('Mu Mw Mq')\n",
    "\n",
    "F = sp.Matrix([[Xu, Xw, Xq - W0, -g * sp.cos(th0)],\n",
    "               [Zu, Zw, Zq + U0, -g * sp.sin(th0)],\n",
    "               [Mu, Mw, Mq, 0],\n",
    "               [0, 0, 1, 0]])\n",
    "\n",
    "Xele, Zele, Mele = sp.symbols('Xele,Zele,Mele')\n",
    "G = sp.Matrix([[Xele],\n",
    "               [Zele],\n",
    "               [Mele],\n",
    "               [0]])\n",
    "\n",
    "# direct using u w q for y\n",
    "H0 = sp.Matrix([\n",
    "    [1, 0, 0, 0],\n",
    "    [0, 1, 0, 0],    \n",
    "    [0, 0, 1, 0]]\n",
    ")\n",
    "\n",
    "H1 = sp.Matrix([\n",
    "    [0, 0, 0, 0],\n",
    "    [0, 0, 0, 0],\n",
    "    [0, 0, 0, 0],\n",
    "])\n",
    "\n",
    "syms = [\n",
    "        Xu, Xw, Xq,\n",
    "        Zu, Zw, Zq,\n",
    "        Mu, Mw, Mq,\n",
    "        Xele, Zele, Mele\n",
    "]\n",
    "LatdynSSPM = StateSpaceParamModel(M, F, G, H0, H1, syms)"
   ]
  },
  {
   "cell_type": "code",
   "execution_count": 7,
   "metadata": {},
   "outputs": [
    {
     "name": "stdout",
     "output_type": "stream",
     "text": [
      "Will estimate num 12 [A_0_0, A_0_1, A_0_2, A_1_0, A_1_1, A_1_2, A_2_0, A_2_1, A_2_2, B_0_0, B_1_0, B_2_0]\n",
      "Found new better 101.04504685215794\n",
      "Found new better 31.36857310941146\n",
      "Terminate pool\n",
      "Using J 31.36857310941146 x [ -10.23167552    8.66631063    3.38558607  -10.87496096    8.39218206\n",
      "    4.80405075 -528.57334121  360.56294059  -20.67792966   -7.91066998\n",
      "   -3.70863886  -66.36651836]\n",
      "{Xu: -10.2316755160090, Xw: 8.66631062905871, Xq: 3.38558607095214, Zu: -10.8749609568715, Zw: 8.39218205852207, Zq: -4.19594924759957, Mu: -528.573341213109, Mw: 360.562940592937, Mq: -20.6779296553808, Xele: -7.91066997770445, Zele: -3.70863885982562, Mele: -66.3665183570009}\n",
      "J : 31.36857310941146 syms {Xu: -10.2316755160090, Xw: 8.66631062905871, Xq: 3.38558607095214, Zu: -10.8749609568715, Zw: 8.39218205852207, Zq: -4.19594924759957, Mu: -528.573341213109, Mw: 360.562940592937, Mq: -20.6779296553808, Xele: -7.91066997770445, Zele: -3.70863885982562, Mele: -66.3665183570009}\n"
     ]
    },
    {
     "data": {
      "application/vnd.jupyter.widget-view+json": {
       "model_id": "",
       "version_major": 2,
       "version_minor": 0
      },
      "text/html": [
       "<p>Failed to display Jupyter Widget of type <code>FigureCanvasNbAgg</code>.</p>\n",
       "<p>\n",
       "  If you're reading this message in the Jupyter Notebook or JupyterLab Notebook, it may mean\n",
       "  that the widgets JavaScript is still loading. If this message persists, it\n",
       "  likely means that the widgets JavaScript library is either not installed or\n",
       "  not enabled. See the <a href=\"https://ipywidgets.readthedocs.io/en/stable/user_install.html\">Jupyter\n",
       "  Widgets Documentation</a> for setup instructions.\n",
       "</p>\n",
       "<p>\n",
       "  If you're reading this message in another frontend (for example, a static\n",
       "  rendering on GitHub or <a href=\"https://nbviewer.jupyter.org/\">NBViewer</a>),\n",
       "  it may mean that your frontend doesn't currently support widgets.\n",
       "</p>\n"
      ],
      "text/plain": [
       "FigureCanvasNbAgg()"
      ]
     },
     "metadata": {},
     "output_type": "display_data"
    },
    {
     "name": "stdout",
     "output_type": "stream",
     "text": [
      "Eigs [-1.60525828e+01+0.        j -6.46374057e+00+0.        j\n",
      " -5.49874040e-04+0.00212537j -5.49874040e-04-0.00212537j]\n",
      "Stable\n"
     ]
    },
    {
     "data": {
      "application/vnd.jupyter.widget-view+json": {
       "model_id": "c382710e53234007bb531e9e6d1d8331",
       "version_major": 2,
       "version_minor": 0
      },
      "text/html": [
       "<p>Failed to display Jupyter Widget of type <code>FigureCanvasNbAgg</code>.</p>\n",
       "<p>\n",
       "  If you're reading this message in the Jupyter Notebook or JupyterLab Notebook, it may mean\n",
       "  that the widgets JavaScript is still loading. If this message persists, it\n",
       "  likely means that the widgets JavaScript library is either not installed or\n",
       "  not enabled. See the <a href=\"https://ipywidgets.readthedocs.io/en/stable/user_install.html\">Jupyter\n",
       "  Widgets Documentation</a> for setup instructions.\n",
       "</p>\n",
       "<p>\n",
       "  If you're reading this message in another frontend (for example, a static\n",
       "  rendering on GitHub or <a href=\"https://nbviewer.jupyter.org/\">NBViewer</a>),\n",
       "  it may mean that your frontend doesn't currently support widgets.\n",
       "</p>\n"
      ],
      "text/plain": [
       "FigureCanvasNbAgg()"
      ]
     },
     "metadata": {},
     "output_type": "display_data"
    },
    {
     "name": "stdout",
     "output_type": "stream",
     "text": [
      "{Xu: -10.2316755160090, Xw: 8.66631062905871, Xq: 3.38558607095214, Zu: -10.8749609568715, Zw: 8.39218205852207, Zq: -4.19594924759957, Mu: -528.573341213109, Mw: 360.562940592937, Mq: -20.6779296553808, Xele: -7.91066997770445, Zele: -3.70863885982562, Mele: -66.3665183570009}\n",
      "{Xu: -10.2316755160090, Xw: 8.66631062905871, Xq: 3.38558607095214, Zu: -10.8749609568715, Zw: 8.39218205852207, Zq: -4.19594924759957, Mu: -528.573341213109, Mw: 360.562940592937, Mq: -20.6779296553808, Xele: -7.91066997770445, Zele: -3.70863885982562, Mele: -66.3665183570009}\n",
      "A\n",
      "[[ -10.23167552    8.66631063    3.38558607   -8.46972845]\n",
      " [ -10.87496096    8.39218206    4.80405075   -4.89      ]\n",
      " [-528.57334121  360.56294059  -20.67792966    0.        ]\n",
      " [   0.            0.            1.            0.        ]]\n",
      "B\n",
      "[[ -7.91066998]\n",
      " [ -3.70863886]\n",
      " [-66.36651836]\n",
      " [  0.        ]]\n"
     ]
    }
   ],
   "source": [
    "plt.rc('figure', figsize=(10.0, 5.0))\n",
    "freqres = freqres_10ms.get_freqres(indexs = [2,1,0])\n",
    "ssm_iden = StateSpaceIdenSIMO(freqres, accept_J=50,\n",
    "                              enable_debug_plot=True,\n",
    "                              y_names=[\"V\", \"w\", \"q\"],reg=0 )\n",
    "J, ssm = ssm_iden.estimate(LatdynSSPM, syms, constant_defines={})\n",
    "ssm.check_stable()\n",
    "ssm_iden.draw_freq_res()\n",
    "ssm_iden.print_res()"
   ]
  },
  {
   "cell_type": "code",
   "execution_count": null,
   "metadata": {},
   "outputs": [],
   "source": []
  }
 ],
 "metadata": {
  "kernelspec": {
   "display_name": "Python 3",
   "language": "python",
   "name": "python3"
  },
  "language_info": {
   "codemirror_mode": {
    "name": "ipython",
    "version": 3
   },
   "file_extension": ".py",
   "mimetype": "text/x-python",
   "name": "python",
   "nbconvert_exporter": "python",
   "pygments_lexer": "ipython3",
   "version": "3.6.3"
  }
 },
 "nbformat": 4,
 "nbformat_minor": 2
}
