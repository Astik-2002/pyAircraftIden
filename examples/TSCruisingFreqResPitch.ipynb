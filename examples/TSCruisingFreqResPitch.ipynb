{
 "cells": [
  {
   "cell_type": "markdown",
   "metadata": {},
   "source": [
    "# Process Tail Sitter Frequency Response\n",
    "This program is used to process tail sitter data to frequency response while cruising\n",
    "\n"
   ]
  },
  {
   "cell_type": "code",
   "execution_count": null,
   "metadata": {},
   "outputs": [],
   "source": [
    "#coding=utf-8 \n",
    "%load_ext autoreload\n",
    "%matplotlib inline\n",
    "import sys\n",
    "sys.path.insert(0, '../')\n",
    "from AircraftIden.data_case.GeneralAircraftCase import GeneralAircraftCase, PX4AircraftCase\n",
    "from AircraftIden import FreqIdenSIMO, TransferFunctionFit\n",
    "import numpy as np\n",
    "import matplotlib.pyplot as plt\n",
    "import math\n",
    "\n",
    "plt.rc('figure', figsize=(20.0, 10.0))\n",
    "\n",
    "def show_logs(px4_case: PX4AircraftCase):\n",
    "    print(\"LOW\")\n",
    "    needed_data = ['pitch_sp', 'ele', 'q', 'pitch']\n",
    "    t_arr, data_list = px4_case.get_data_time_range_list(needed_data)\n",
    "    print(t_arr)\n",
    "    data_list[-1] = data_list[-1]/10\n",
    "    plt.figure(\"Ele\")\n",
    "    plt.grid(which='both')\n",
    "    plt.plot(t_arr, data_list[0], 'r.', label='ele')\n",
    "\n",
    "    plt.figure(\"sourcedata\")\n",
    "    # print(t_arr)\n",
    "    # print(data_list)\n",
    "    for i in range(needed_data.__len__()):\n",
    "        plt.plot(t_arr, data_list[i], label=needed_data[i])\n",
    "    plt.legend()\n",
    "    plt.show()\n",
    "\n",
    "\n",
    "def split_logs(px4_case:PX4AircraftCase):\n",
    "    needed_data = [\"iden_start_time\"]\n",
    "    print(\"Will start split data with\", needed_data)\n",
    "    t_arr, data_list = px4_case.get_data_time_range_list(needed_data)\n",
    "    iden_start_time = data_list[-1]\n",
    "    data_splited = []\n",
    "    is_in_a_test = False\n",
    "    for i in range(1, t_arr.__len__()-1):\n",
    "        if (iden_start_time[i] > iden_start_time[i+1] or (len(data_splited) > 0 and t_arr[i] - data_splited[-1][\"start\"] > 20)) \\\n",
    "                and is_in_a_test:\n",
    "            data_splited[-1][\"end\"] = t_arr[i]\n",
    "#             print(\"Data split {}th, {:5.2f}:{:5.2f}  len {:5.2f}\".format(\n",
    "#                 data_splited.__len__(), data_splited[-1][\"start\"], data_splited[-1][\"end\"],\n",
    "#                 data_splited[-1][\"end\"] - data_splited[-1][\"start\"]\n",
    "#             ))\n",
    "            is_in_a_test = False\n",
    "\n",
    "        # if (0 <= iden_start_time[i] < iden_start_time[i-1] and iden_start_time[i] < iden_start_time[i+1]):\n",
    "        if (iden_start_time[i-1] <=0 and 0 < iden_start_time[i]):\n",
    "            # Is a start\n",
    "            is_in_a_test = True\n",
    "            data_splited.append({\"start\": t_arr[i]})\n",
    "\n",
    "    return data_splited\n",
    "\n",
    "\n",
    "def join_data(data_splited, status):\n",
    "    joined_data_status = {}\n",
    "    assert data_splited.__len__() == status.__len__(), \"Status Length must equal to data_split but {} {}\".format(\n",
    "        data_splited.__len__(), status.__len__())\n",
    "\n",
    "    for i in range(data_splited.__len__()):\n",
    "        status_test = status[i]\n",
    "        if status_test == \"-\" or status_test == \"wrong\":\n",
    "            continue\n",
    "        if status_test in joined_data_status:\n",
    "            #Join data\n",
    "            joined_data_status[status_test].append((data_splited[i][\"start\"],data_splited[i][\"end\"]))\n",
    "        else:\n",
    "            joined_data_status[status_test] = [(data_splited[i][\"start\"], data_splited[i][\"end\"])]\n",
    "    return joined_data_status\n",
    "\n",
    "def split_and_join_data(px4_case:PX4AircraftCase,status):\n",
    "    sp = split_logs(px4_case)\n",
    "    return join_data(sp,status)\n",
    "\n",
    "def get_concat_data(case, time_ranges, attrs, return_trimed = True):\n",
    "    res = dict()\n",
    "    count = 0\n",
    "    sumup = 0\n",
    "    for attr in attrs:\n",
    "        attr_data = []\n",
    "        for t_min, t_max in time_ranges:\n",
    "            _, piece_data = self.get_data_time_range(\n",
    "                [attr], t_min=t_min,\n",
    "                t_max=t_max)\n",
    "            # piece_data = remove_seq_average_and_drift(piece_data.copy())\n",
    "            if return_trimed:\n",
    "                piece_data = piece_data.copy() - np.average(piece_data)\n",
    "            else:\n",
    "                piece_data = piece_data.copy()\n",
    "            # print(\"Do not remove drift\")\n",
    "            attr_data.append(piece_data)\n",
    "        res[attr] = np.concatenate(attr_data)\n",
    "        datalen = res[attrs[0]].__len__()\n",
    "        totaltime = datalen / self.sample_rate\n",
    "        tseq = np.linspace(0, totaltime, datalen)\n",
    "    return totaltime, tseq, res\n",
    "def plot_status_data(test_case, joined_data_status,needed_data):\n",
    "    for key in joined_data_status:\n",
    "        plt.figure(\"Data case: {}\".format(key))\n",
    "        plt.title(\"Data case: {}\".format(key))\n",
    "        total_time, t_data, datas = test_case.get_concat_data(joined_data_status[key], needed_data, False)\n",
    "        for i in range(0, needed_data.__len__()):\n",
    "            data = datas[needed_data[i]]\n",
    "#             if needed_data[i] == \"pitch\":\n",
    "#                 data = datas[needed_data[i]] * 180/3.1415\n",
    "\n",
    "            trim_value = np.average(data)\n",
    "            print(f\"{key} Average {np.mean(trim_value * 180/3.1415)}\")\n",
    "\n",
    "            plt.plot(t_data, data, label=needed_data[i]+\" Trim: {:4.2f}\".format(trim_value))\n",
    "            pass\n",
    "        plt.legend()\n",
    "        plt.grid(which='both')\n",
    "    plt.show()\n",
    "\n",
    "def process_status_data_pitchsp_to(test_case, joined_data_status,omg_min,omg_max,win_num=None):\n",
    "    needed_data = ['pitch_sp', 'pitch']\n",
    "    res = {}\n",
    "    for key in joined_data_status:\n",
    "        total_time, t_data, datas = test_case.get_concat_data(joined_data_status[key], needed_data)\n",
    "        iden = FreqIdenSIMO(t_data, omg_min, omg_max, datas['pitch_sp'], datas[\"pitch\"], uniform_input=True, win_num=None)#,assit_input=datas[\"thr\"])\n",
    "        res[key] = iden\n",
    "    return res\n",
    "\n",
    "def plot_idens_for_status(idens):\n",
    "    for key in idens:\n",
    "        iden = idens[key]\n",
    "        plt.figure(\"psp_pitch\")\n",
    "        iden.plt_bode_plot(0, label=key, xmin=0.01, xmax=1)\n",
    "        \n",
    "    plt.show()"
   ]
  },
  {
   "cell_type": "code",
   "execution_count": null,
   "metadata": {},
   "outputs": [],
   "source": [
    "fpath = \"../data/foam-tail-sitter/cruising/log_34_2018-4-10-16-16-04.ulg\"\n",
    "status = [\n",
    "        \"5m/s\", \"5m/s\", \"5m/s\", \"5m/s\", \"5m/s\", \"5m/s\", \"5m/s\", \"5m/s\",\n",
    "        \"8m/s\", \"8m/s\", \"8m/s\", \"8m/s\", \"8m/s\", \"8m/s\",\"8m/s\", \"8m/s\",\n",
    "        \"10m/s\", \"10m/s\", \"10m/s\", \"10m/s\", \"10m/s\", \"10m/s\",\"10m/s\"\n",
    "]\n",
    "status_low = [\n",
    "        \"1m/s\", \"1m/s\", \"1m/s\", \"1m/s\", \"1m/s\", \"1m/s\", \"1m/s\", \"1m/s\",\n",
    "        \"3m/s\", \"3m/s\", \"3m/s\", \"3m/s\", \"3m/s\", \"3m/s\",\"3m/s\", \"3m/s\",\n",
    "        \"-\", \"-\", \"-\",\n",
    "]\n",
    "\n",
    "fpath_low = \"../data/foam-tail-sitter/cruising/log_32_2018-4-10-15-53-08.ulg\""
   ]
  },
  {
   "cell_type": "code",
   "execution_count": null,
   "metadata": {},
   "outputs": [],
   "source": [
    "#process_file(fpath,status)\n",
    "print(\"Loading fast logs\")\n",
    "px4_case = PX4AircraftCase(fpath)\n",
    "# show_logs(px4_case)\n",
    "\n",
    "\n",
    "px4_case_low = PX4AircraftCase(fpath_low)\n",
    "# show_logs(px4_case_low)\n",
    "print(\"Loading low logs\")\n",
    "\n",
    "print(\"Finish loading logs\")"
   ]
  },
  {
   "cell_type": "code",
   "execution_count": null,
   "metadata": {},
   "outputs": [],
   "source": [
    "%store px4_case_low\n",
    "%store px4_case"
   ]
  },
  {
   "cell_type": "code",
   "execution_count": null,
   "metadata": {},
   "outputs": [],
   "source": [
    "%store -r"
   ]
  },
  {
   "cell_type": "code",
   "execution_count": null,
   "metadata": {},
   "outputs": [],
   "source": [
    "\n",
    "plt.rc('figure', figsize=(20.0, 10.0))\n",
    "data_splited = split_logs(px4_case)\n",
    "data_splited = join_data(data_splited, status)\n",
    "data_splited_low = split_and_join_data(px4_case_low, status_low)\n",
    "needed_data = ['pitch_sp', 'pitch']\n",
    "plot_status_data(px4_case, data_splited,needed_data)\n",
    "plot_status_data(px4_case_low, data_splited_low,needed_data)"
   ]
  },
  {
   "cell_type": "code",
   "execution_count": null,
   "metadata": {},
   "outputs": [],
   "source": [
    "print(\"Iden fast\")\n",
    "idens_psp = process_status_data_pitchsp_to(px4_case, data_splited, 0.01, 20)\n",
    "print(\"Iden low\")\n",
    "idens_psp.update(process_status_data_pitchsp_to(px4_case_low, data_splited_low, 0.01, 20))"
   ]
  },
  {
   "cell_type": "code",
   "execution_count": null,
   "metadata": {},
   "outputs": [],
   "source": [
    "%autoreload\n",
    "plt.rc('figure', figsize=(20.0, 10.0))\n",
    "plot_idens_for_status(idens_psp)"
   ]
  },
  {
   "cell_type": "code",
   "execution_count": null,
   "metadata": {},
   "outputs": [],
   "source": [
    "import pickle\n",
    "pkl_name = \"../data/foam-tail-sitter/cruising/log_34_2018-4-10-freq-res-q.pkl\"\n",
    "f = open(pkl_name,\"wb\")\n",
    "pickle.dump(idens_q, f, pickle.HIGHEST_PROTOCOL)"
   ]
  },
  {
   "cell_type": "code",
   "execution_count": null,
   "metadata": {},
   "outputs": [],
   "source": [
    "import pickle\n",
    "pkl_name = \"../data/foam-tail-sitter/cruising/log_34_2018-4-10-freq-res-q.pkl\"\n",
    "finput = open(pkl_name, 'rb')\n",
    "idens = pickle.load(finput)\n",
    "plt.rc('figure', figsize=(20.0, 10.0))\n",
    "plot_idens_for_status(idens_q)"
   ]
  },
  {
   "cell_type": "code",
   "execution_count": null,
   "metadata": {},
   "outputs": [],
   "source": [
    "%store px4_case\n",
    "%store px4_case_low"
   ]
  },
  {
   "cell_type": "code",
   "execution_count": null,
   "metadata": {},
   "outputs": [],
   "source": []
  }
 ],
 "metadata": {
  "kernelspec": {
   "display_name": "Python [default]",
   "language": "python",
   "name": "python3"
  },
  "language_info": {
   "codemirror_mode": {
    "name": "ipython",
    "version": 3
   },
   "file_extension": ".py",
   "mimetype": "text/x-python",
   "name": "python",
   "nbconvert_exporter": "python",
   "pygments_lexer": "ipython3",
   "version": "3.6.6"
  }
 },
 "nbformat": 4,
 "nbformat_minor": 2
}
